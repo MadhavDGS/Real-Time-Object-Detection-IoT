{
  "cells": [
    {
      "cell_type": "code",
      "execution_count": null,
      "metadata": {
        "colab": {
          "base_uri": "https://localhost:8080/"
        },
        "id": "qjbSMlZQHbUK",
        "outputId": "4aee09bc-c49b-429f-ff5d-98ffd9fec0d0"
      },
      "outputs": [
        {
          "name": "stdout",
          "output_type": "stream",
          "text": [
            "Cloning into 'yolov9'...\n",
            "remote: Enumerating objects: 325, done.\u001b[K\n",
            "remote: Total 325 (delta 0), reused 0 (delta 0), pack-reused 325 (from 1)\u001b[K\n",
            "Receiving objects: 100% (325/325), 2.25 MiB | 5.32 MiB/s, done.\n",
            "Resolving deltas: 100% (162/162), done.\n",
            "/content/yolov9\n",
            "\u001b[2K   \u001b[90m━━━━━━━━━━━━━━━━━━━━━━━━━━━━━━━━━━━━━━━━\u001b[0m \u001b[32m207.3/207.3 kB\u001b[0m \u001b[31m7.5 MB/s\u001b[0m eta \u001b[36m0:00:00\u001b[0m\n",
            "\u001b[2K   \u001b[90m━━━━━━━━━━━━━━━━━━━━━━━━━━━━━━━━━━━━━━━━\u001b[0m \u001b[32m62.7/62.7 kB\u001b[0m \u001b[31m5.6 MB/s\u001b[0m eta \u001b[36m0:00:00\u001b[0m\n",
            "\u001b[?25hCollecting telebot\n",
            "  Downloading telebot-0.0.5-py3-none-any.whl.metadata (2.0 kB)\n",
            "Collecting pyTelegramBotAPI (from telebot)\n",
            "  Downloading pytelegrambotapi-4.23.0-py3-none-any.whl.metadata (48 kB)\n",
            "\u001b[2K     \u001b[90m━━━━━━━━━━━━━━━━━━━━━━━━━━━━━━━━━━━━━━━━\u001b[0m \u001b[32m48.2/48.2 kB\u001b[0m \u001b[31m2.4 MB/s\u001b[0m eta \u001b[36m0:00:00\u001b[0m\n",
            "\u001b[?25hRequirement already satisfied: requests in /usr/local/lib/python3.10/dist-packages (from telebot) (2.32.3)\n",
            "Requirement already satisfied: charset-normalizer<4,>=2 in /usr/local/lib/python3.10/dist-packages (from requests->telebot) (3.3.2)\n",
            "Requirement already satisfied: idna<4,>=2.5 in /usr/local/lib/python3.10/dist-packages (from requests->telebot) (3.10)\n",
            "Requirement already satisfied: urllib3<3,>=1.21.1 in /usr/local/lib/python3.10/dist-packages (from requests->telebot) (2.2.3)\n",
            "Requirement already satisfied: certifi>=2017.4.17 in /usr/local/lib/python3.10/dist-packages (from requests->telebot) (2024.8.30)\n",
            "Downloading telebot-0.0.5-py3-none-any.whl (4.8 kB)\n",
            "Downloading pytelegrambotapi-4.23.0-py3-none-any.whl (263 kB)\n",
            "\u001b[2K   \u001b[90m━━━━━━━━━━━━━━━━━━━━━━━━━━━━━━━━━━━━━━━━\u001b[0m \u001b[32m263.3/263.3 kB\u001b[0m \u001b[31m7.0 MB/s\u001b[0m eta \u001b[36m0:00:00\u001b[0m\n",
            "\u001b[?25hInstalling collected packages: pyTelegramBotAPI, telebot\n",
            "Successfully installed pyTelegramBotAPI-4.23.0 telebot-0.0.5\n"
          ]
        }
      ],
      "source": [
        "!git clone https://github.com/SkalskiP/yolov9.git\n",
        "%cd yolov9\n",
        "!pip install -r requirements.txt -q\n",
        "!pip install telebot\n"
      ]
    },
    {
      "cell_type": "code",
      "execution_count": null,
      "metadata": {
        "id": "iP1tj6mAeEMx"
      },
      "outputs": [],
      "source": []
    },
    {
      "cell_type": "code",
      "execution_count": null,
      "metadata": {
        "id": "dLndwWmDblon"
      },
      "outputs": [],
      "source": []
    },
    {
      "cell_type": "code",
      "execution_count": null,
      "metadata": {
        "colab": {
          "background_save": true,
          "base_uri": "https://localhost:8080/"
        },
        "id": "AveDO98N5R2W",
        "outputId": "f78dc068-a414-42b4-a75a-a2a92cd6fdd9"
      },
      "outputs": [
        {
          "name": "stdout",
          "output_type": "stream",
          "text": [
            "Image Received\n",
            "Error while removing directory: [Errno 2] No such file or directory: '/content/yolov9/saved_images'\n",
            "\u001b[34m\u001b[1mdetect: \u001b[0mweights=['/content/drive/MyDrive/plate_detection.pt'], source=/content/yolov9/saved_images, data=data/coco128.yaml, imgsz=[1280, 1280], conf_thres=0.4, iou_thres=0.45, max_det=1000, device=0, view_img=False, save_txt=False, save_conf=False, save_crop=False, nosave=False, classes=None, agnostic_nms=False, augment=False, visualize=False, update=False, project=runs/detect, name=exp, exist_ok=False, line_thickness=3, hide_labels=False, hide_conf=False, half=False, dnn=False, vid_stride=1\n",
            "YOLOv5 🚀 1e33dbb Python-3.10.12 torch-2.4.1+cu121 CUDA:0 (Tesla T4, 15102MiB)\n",
            "\n",
            "/content/yolov9/models/experimental.py:75: FutureWarning: You are using `torch.load` with `weights_only=False` (the current default value), which uses the default pickle module implicitly. It is possible to construct malicious pickle data which will execute arbitrary code during unpickling (See https://github.com/pytorch/pytorch/blob/main/SECURITY.md#untrusted-models for more details). In a future release, the default value for `weights_only` will be flipped to `True`. This limits the functions that could be executed during unpickling. Arbitrary objects will no longer be allowed to be loaded via this mode unless they are explicitly allowlisted by the user via `torch.serialization.add_safe_globals`. We recommend you start setting `weights_only=True` for any use case where you don't have full control of the loaded file. Please open an issue on GitHub for any issues related to this experimental feature.\n",
            "  ckpt = torch.load(attempt_download(w), map_location='cpu')  # load\n",
            "Fusing layers... \n",
            "gelan-c summary: 467 layers, 25411731 parameters, 0 gradients, 102.5 GFLOPs\n",
            "image 1/1 /content/yolov9/saved_images/5222981177_79.jpg: 736x1280 2 license_plates, 64.9ms\n",
            "Speed: 0.9ms pre-process, 64.9ms inference, 821.1ms NMS per image at shape (1, 3, 1280, 1280)\n",
            "Results saved to \u001b[1mruns/detect/exp\u001b[0m\n",
            "/content/yolov9/saved_images/5222981177_79.jpg\n"
          ]
        }
      ],
      "source": [
        "import telebot\n",
        "import shutil\n",
        "\n",
        "\n",
        "import os\n",
        "import telebot\n",
        "from telebot import types\n",
        "BOT_TOKEN = '7543747213:AAF9HQQbJtW3iEVgSgCFImaOhMtO3oSUp_U'\n",
        "bot = telebot.TeleBot(BOT_TOKEN)\n",
        "output_folder=\"/content/runs/detect/predict\"\n",
        "@bot.message_handler(content_types=['photo'])\n",
        "def echo_photo(message):\n",
        "    print(\"Image Received\")\n",
        "    # Get the photo ID of the largest available photo\n",
        "    photo = message.photo[-1]\n",
        "    # Download the photo\n",
        "    photo_info = bot.get_file(photo.file_id)\n",
        "    photo_url = f\"https://api.telegram.org/file/bot{BOT_TOKEN}/{photo_info.file_path}\"\n",
        "\n",
        "    # Define the folder where images will be saved\n",
        "    save_folder = \"/content/yolov9/saved_images\"\n",
        "    try:\n",
        "        shutil.rmtree(\"/content/yolov9/saved_images\")\n",
        "        shutil.rmtree(\"/content/yolov9/runs/detect/exp\")\n",
        "        shutil.rmtree(\"/content/yolov9/runs/detect/exp2\")\n",
        "        shutil.rmtree(\"/content/yolov9/runs/detect/exp3\")\n",
        "        #print(f\"Directory '{directory_path}' and its contents have been removed.\")\n",
        "    except Exception as e:\n",
        "        print(f\"Error while removing directory: {e}\")\n",
        "\n",
        "    if not os.path.exists(save_folder):\n",
        "        os.makedirs(save_folder)\n",
        "\n",
        "    # Define the image filename\n",
        "    image_filename = f\"{message.from_user.id}_{message.message_id}.jpg\"\n",
        "    image_path = os.path.join(save_folder, image_filename)\n",
        "\n",
        "    os.system(f\"wget -O {image_path} {photo_url}\")\n",
        "    !python detect.py \\\n",
        "    --img 1280 --conf 0.4 --device 0 \\\n",
        "    --weights '/content/drive/MyDrive/plate_detection.pt' \\\n",
        "    --source '/content/yolov9/saved_images'\n",
        "\n",
        "\n",
        "    final_image_path = os.path.join(\"/content/yolov9/runs/detect/exp\", image_filename)\n",
        "\n",
        "    with open(final_image_path, 'rb') as photo_file:\n",
        "        print(image_path)\n",
        "        bot.send_photo(message.chat.id, photo_file)\n",
        "\n",
        "    bot.reply_to(message, \"Image saved and sent!\")\n",
        "\n",
        "@bot.message_handler(func=lambda message: True)\n",
        "def handle_text_messages(message):\n",
        "    bot.reply_to(message, \"Please send an image.\")\n",
        "\n",
        "if __name__ == \"__main__\":\n",
        "    bot.polling(none_stop=True)"
      ]
    },
    {
      "cell_type": "code",
      "execution_count": null,
      "metadata": {
        "id": "7MHJLhiDe1WW"
      },
      "outputs": [],
      "source": []
    },
    {
      "cell_type": "code",
      "execution_count": null,
      "metadata": {
        "id": "5hTKYgOwe34G"
      },
      "outputs": [],
      "source": []
    },
    {
      "cell_type": "code",
      "execution_count": null,
      "metadata": {
        "id": "KEj_J9_te4dm"
      },
      "outputs": [],
      "source": []
    },
    {
      "cell_type": "code",
      "execution_count": null,
      "metadata": {
        "colab": {
          "base_uri": "https://localhost:8080/"
        },
        "id": "DMK0nDHzlfBw",
        "outputId": "383bfc69-b8e5-4511-edf9-e632e03f7b1b"
      },
      "outputs": [
        {
          "name": "stdout",
          "output_type": "stream",
          "text": [
            "Mounted at /content/drive\n"
          ]
        }
      ],
      "source": [
        "from google.colab import drive\n",
        "drive.mount('/content/drive')"
      ]
    }
  ],
  "metadata": {
    "accelerator": "GPU",
    "colab": {
      "gpuType": "T4",
      "provenance": []
    },
    "kernelspec": {
      "display_name": "Python 3",
      "name": "python3"
    },
    "language_info": {
      "name": "python"
    }
  },
  "nbformat": 4,
  "nbformat_minor": 0
}